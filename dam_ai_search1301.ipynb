{
 "cells": [
  {
   "cell_type": "code",
   "execution_count": 1,
   "id": "62ab09c1-141e-48e1-8410-55dff1b060a6",
   "metadata": {},
   "outputs": [],
   "source": [
    "import mysql.connector\n",
    "import pandas as pd\n",
    "\n",
    "from transformers import CLIPProcessor, CLIPModel\n",
    "from sklearn.metrics.pairwise import cosine_similarity\n",
    "import torch\n",
    "from PIL import Image\n",
    "import os"
   ]
  },
  {
   "cell_type": "markdown",
   "id": "ff81c6d5-bc9b-4ff0-a2f8-9755e418cc0a",
   "metadata": {},
   "source": [
    "https://huggingface.co/docs/transformers/model_doc/clip"
   ]
  },
  {
   "cell_type": "markdown",
   "id": "26c28a1c-0e20-477f-a20a-7fcf52deb729",
   "metadata": {},
   "source": [
    "# Bild zu Vektor"
   ]
  },
  {
   "cell_type": "markdown",
   "id": "3230b8fb-1e0f-4e31-a863-8d31b5fc359d",
   "metadata": {},
   "source": [
    "## Einspielen vom Modell"
   ]
  },
  {
   "cell_type": "code",
   "execution_count": 2,
   "id": "e2e63fde-d7c2-4493-b1e8-210ab6aedd63",
   "metadata": {},
   "outputs": [],
   "source": [
    "# CLIP-Modell laden \n",
    "model = CLIPModel.from_pretrained(\"openai/clip-vit-base-patch32\")"
   ]
  },
  {
   "cell_type": "code",
   "execution_count": 3,
   "id": "467558b6-5e3c-4852-bb25-f3e7d3fc5666",
   "metadata": {},
   "outputs": [],
   "source": [
    "# Prozessor laden\n",
    "processor = CLIPProcessor.from_pretrained(\"openai/clip-vit-base-patch32\")"
   ]
  },
  {
   "cell_type": "markdown",
   "id": "d80b4ce4-c372-426f-aa5c-4ef567f7a8fc",
   "metadata": {},
   "source": [
    "## Bildpfad und Bildskalieren"
   ]
  },
  {
   "cell_type": "code",
   "execution_count": 14,
   "id": "36545e0f-27f4-4afe-b4d2-d2109552e8f2",
   "metadata": {},
   "outputs": [],
   "source": [
    "# Test mit einem Bild; Bild laden; Bildpfad überprüfen\n",
    "image_path = \"/Users/a.klofat/hamsterpics/hanni_zwei.jpeg\""
   ]
  },
  {
   "cell_type": "code",
   "execution_count": 15,
   "id": "299769e8-263a-4033-9432-50b470bb7195",
   "metadata": {},
   "outputs": [
    {
     "data": {
      "text/plain": [
       "'/Users/a.klofat/hamsterpics/hanni_zwei.jpeg'"
      ]
     },
     "execution_count": 15,
     "metadata": {},
     "output_type": "execute_result"
    }
   ],
   "source": [
    "image_path"
   ]
  },
  {
   "cell_type": "code",
   "execution_count": 16,
   "id": "06da5a3f-439c-450b-8be3-015e68e124d8",
   "metadata": {},
   "outputs": [
    {
     "name": "stdout",
     "output_type": "stream",
     "text": [
      "Bild gefunden: /Users/a.klofat/hamsterpics/hanni_zwei.jpeg\n"
     ]
    }
   ],
   "source": [
    "if os.path.exists(image_path):\n",
    "    print(\"Bild gefunden:\", image_path)\n",
    "    image = Image.open(image_path).convert(\"RGB\")\n",
    "    image.show()  # Öffnet das Bild\n",
    "else:\n",
    "    print(\"Bild nicht gefunden:\", image_path)"
   ]
  },
  {
   "cell_type": "markdown",
   "id": "0556a2a7-ba5f-4931-a69a-fd95b54c4758",
   "metadata": {},
   "source": [
    "## Model ausführen"
   ]
  },
  {
   "cell_type": "code",
   "execution_count": 17,
   "id": "6d556c15-2637-4e34-9882-cb09afdfa68a",
   "metadata": {},
   "outputs": [],
   "source": [
    "# Eingaben vorbereiten (nur Bild, ohne Text)\n",
    "inputs = processor(images=image, return_tensors=\"pt\", padding=True)"
   ]
  },
  {
   "cell_type": "code",
   "execution_count": 18,
   "id": "5ebc3d94-b781-4b55-97c5-1cfbee6f029d",
   "metadata": {},
   "outputs": [],
   "source": [
    "# Modell ausführen\n",
    "#Vektoren erzeugen\n",
    "with torch.no_grad():\n",
    "    outputs = model.get_image_features(**inputs)"
   ]
  },
  {
   "cell_type": "code",
   "execution_count": 19,
   "id": "eaff820c-6d1d-48a6-b7c4-c56d3316590a",
   "metadata": {},
   "outputs": [
    {
     "name": "stdout",
     "output_type": "stream",
     "text": [
      "Bildvektoren: (1, 512)\n"
     ]
    }
   ],
   "source": [
    "# Bildvektoren\n",
    "image_features = outputs.detach().numpy()  # Umwandeln in NumPy-Array #Entfernen von Gradientenverfolgung\n",
    "print(\"Bildvektoren:\", image_features.shape)"
   ]
  },
  {
   "cell_type": "markdown",
   "id": "6f057828-b4e8-41f6-909a-052687e7ad19",
   "metadata": {},
   "source": [
    "# Text-zu-Bild-Suche"
   ]
  },
  {
   "cell_type": "code",
   "execution_count": null,
   "id": "dfc5f377-a2ba-4907-a6de-67e088914ca3",
   "metadata": {},
   "outputs": [],
   "source": []
  }
 ],
 "metadata": {
  "kernelspec": {
   "display_name": "Python 3 (ipykernel)",
   "language": "python",
   "name": "python3"
  },
  "language_info": {
   "codemirror_mode": {
    "name": "ipython",
    "version": 3
   },
   "file_extension": ".py",
   "mimetype": "text/x-python",
   "name": "python",
   "nbconvert_exporter": "python",
   "pygments_lexer": "ipython3",
   "version": "3.11.8"
  }
 },
 "nbformat": 4,
 "nbformat_minor": 5
}
